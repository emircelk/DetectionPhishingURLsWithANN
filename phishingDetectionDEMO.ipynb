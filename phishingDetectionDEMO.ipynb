{
  "cells": [
    {
      "cell_type": "code",
      "source": [
        "from google.colab import drive\n",
        "drive.mount('/content/drive')"
      ],
      "metadata": {
        "colab": {
          "base_uri": "https://localhost:8080/"
        },
        "id": "wjVAQyBmq8Qb",
        "outputId": "268f62a1-fbb5-40cd-dc45-b4684e6e54eb"
      },
      "execution_count": 1,
      "outputs": [
        {
          "output_type": "stream",
          "name": "stdout",
          "text": [
            "Mounted at /content/drive\n"
          ]
        }
      ]
    },
    {
      "cell_type": "code",
      "source": [
        "import pandas as pd\n",
        "import numpy as np\n",
        "import requests\n",
        "from tensorflow.keras.preprocessing.text import Tokenizer\n",
        "from tensorflow.keras.preprocessing.sequence import pad_sequences\n",
        "from tensorflow.keras.models import Sequential\n",
        "from tensorflow.keras.layers import Embedding, Bidirectional, LSTM, Dense, Dropout\n",
        "from tensorflow.keras.callbacks import EarlyStopping, ModelCheckpoint, CSVLogger\n",
        "import matplotlib.pyplot as plt"
      ],
      "metadata": {
        "id": "YDe_4O1Og3-8"
      },
      "execution_count": 2,
      "outputs": []
    },
    {
      "cell_type": "code",
      "source": [
        "# Veri setini yükle\n",
        "#data_path = \"/phishing_site_urls.csv\"\n",
        "#df = pd.read_csv(data_path)\n",
        "df = pd.read_csv(r'drive/MyDrive/phishing_site_urls.csv')"
      ],
      "metadata": {
        "id": "Mr0Y5UW6rS1-"
      },
      "execution_count": 3,
      "outputs": []
    },
    {
      "cell_type": "code",
      "source": [
        "df.shape"
      ],
      "metadata": {
        "colab": {
          "base_uri": "https://localhost:8080/"
        },
        "id": "c6mYUuOZrWRe",
        "outputId": "d5fc4795-2d6d-4f41-8bd8-534d364397cc"
      },
      "execution_count": 4,
      "outputs": [
        {
          "output_type": "execute_result",
          "data": {
            "text/plain": [
              "(549346, 2)"
            ]
          },
          "metadata": {},
          "execution_count": 4
        }
      ]
    },
    {
      "cell_type": "code",
      "source": [
        "x=df.Label.unique()\n",
        "y=np.array([df[df['Label']=='bad'].count()[0],df[df['Label']=='good'].count()[0]])\n",
        "plt.bar(x,y,color=[ 'red', 'blue'])"
      ],
      "metadata": {
        "colab": {
          "base_uri": "https://localhost:8080/",
          "height": 447
        },
        "id": "saX5-zGE2jKS",
        "outputId": "806aba4b-5db7-447a-ebea-b80843ede7b2"
      },
      "execution_count": 5,
      "outputs": [
        {
          "output_type": "execute_result",
          "data": {
            "text/plain": [
              "<BarContainer object of 2 artists>"
            ]
          },
          "metadata": {},
          "execution_count": 5
        },
        {
          "output_type": "display_data",
          "data": {
            "text/plain": [
              "<Figure size 640x480 with 1 Axes>"
            ],
            "image/png": "[encoded data removed]"
          },
          "metadata": {}
        }
      ]
    },
    {
      "cell_type": "code",
      "source": [
        "df[df['Label']=='bad'].count()"
      ],
      "metadata": {
        "colab": {
          "base_uri": "https://localhost:8080/"
        },
        "id": "hEwrcHmq2km1",
        "outputId": "6c5b1850-8948-42ca-a6fb-d9a5518134b3"
      },
      "execution_count": 6,
      "outputs": [
        {
          "output_type": "execute_result",
          "data": {
            "text/plain": [
              "URL      156422\n",
              "Label    156422\n",
              "dtype: int64"
            ]
          },
          "metadata": {},
          "execution_count": 6
        }
      ]
    },
    {
      "cell_type": "code",
      "source": [
        "df[df['Label']=='good'].count()"
      ],
      "metadata": {
        "colab": {
          "base_uri": "https://localhost:8080/"
        },
        "id": "D1KujNn72llC",
        "outputId": "c6ac71ca-270a-4e1b-8d4d-b39bbbb95f46"
      },
      "execution_count": 7,
      "outputs": [
        {
          "output_type": "execute_result",
          "data": {
            "text/plain": [
              "URL      392924\n",
              "Label    392924\n",
              "dtype: int64"
            ]
          },
          "metadata": {},
          "execution_count": 7
        }
      ]
    },
    {
      "cell_type": "code",
      "source": [
        "df.info()"
      ],
      "metadata": {
        "colab": {
          "base_uri": "https://localhost:8080/"
        },
        "id": "TFmQ8BXr7L7G",
        "outputId": "f2a44f91-236c-4b7c-fb8a-4dcf7cad49f8"
      },
      "execution_count": 8,
      "outputs": [
        {
          "output_type": "stream",
          "name": "stdout",
          "text": [
            "<class 'pandas.core.frame.DataFrame'>\n",
            "RangeIndex: 549346 entries, 0 to 549345\n",
            "Data columns (total 2 columns):\n",
            " #   Column  Non-Null Count   Dtype \n",
            "---  ------  --------------   ----- \n",
            " 0   URL     549346 non-null  object\n",
            " 1   Label   549346 non-null  object\n",
            "dtypes: object(2)\n",
            "memory usage: 8.4+ MB\n"
          ]
        }
      ]
    },
    {
      "cell_type": "code",
      "source": [
        "df.isna().sum()"
      ],
      "metadata": {
        "colab": {
          "base_uri": "https://localhost:8080/"
        },
        "id": "3Gt7K3N17NFP",
        "outputId": "ffba74f9-682f-4269-f1cd-2e5b5da4579c"
      },
      "execution_count": 9,
      "outputs": [
        {
          "output_type": "execute_result",
          "data": {
            "text/plain": [
              "URL      0\n",
              "Label    0\n",
              "dtype: int64"
            ]
          },
          "metadata": {},
          "execution_count": 9
        }
      ]
    },
    {
      "cell_type": "code",
      "source": [
        "df.URL.duplicated().sum()"
      ],
      "metadata": {
        "colab": {
          "base_uri": "https://localhost:8080/"
        },
        "id": "m9F85ZgD7N__",
        "outputId": "921003d4-cc88-4613-bd1a-18f1fc7eb3f5"
      },
      "execution_count": 10,
      "outputs": [
        {
          "output_type": "execute_result",
          "data": {
            "text/plain": [
              "42151"
            ]
          },
          "metadata": {},
          "execution_count": 10
        }
      ]
    },
    {
      "cell_type": "code",
      "source": [
        "df = df.drop_duplicates()"
      ],
      "metadata": {
        "id": "dizrVC_F7qmR"
      },
      "execution_count": 11,
      "outputs": []
    },
    {
      "cell_type": "code",
      "source": [
        "df.describe()"
      ],
      "metadata": {
        "colab": {
          "base_uri": "https://localhost:8080/",
          "height": 175
        },
        "id": "pes6rhpm7rzo",
        "outputId": "66a1a152-c43e-43c2-cf7a-0b8434273acf"
      },
      "execution_count": 12,
      "outputs": [
        {
          "output_type": "execute_result",
          "data": {
            "text/plain": [
              "                        URL   Label\n",
              "count                507196  507196\n",
              "unique               507195       2\n",
              "top     tommyhumphreys.com/    good\n",
              "freq                      2  392897"
            ],
            "text/html": [
              "\n",
              "  <div id=\"df-62579a0d-4f0c-42b2-bc1d-ca8ad19f1ca7\">\n",
              "    <div class=\"colab-df-container\">\n",
              "      <div>\n",
              "<style scoped>\n",
              "    .dataframe tbody tr th:only-of-type {\n",
              "        vertical-align: middle;\n",
              "    }\n",
              "\n",
              "    .dataframe tbody tr th {\n",
              "        vertical-align: top;\n",
              "    }\n",
              "\n",
              "    .dataframe thead th {\n",
              "        text-align: right;\n",
              "    }\n",
              "</style>\n",
              "<table border=\"1\" class=\"dataframe\">\n",
              "  <thead>\n",
              "    <tr style=\"text-align: right;\">\n",
              "      <th></th>\n",
              "      <th>URL</th>\n",
              "      <th>Label</th>\n",
              "    </tr>\n",
              "  </thead>\n",
              "  <tbody>\n",
              "    <tr>\n",
              "      <th>count</th>\n",
              "      <td>507196</td>\n",
              "      <td>507196</td>\n",
              "    </tr>\n",
              "    <tr>\n",
              "      <th>unique</th>\n",
              "      <td>507195</td>\n",
              "      <td>2</td>\n",
              "    </tr>\n",
              "    <tr>\n",
              "      <th>top</th>\n",
              "      <td>tommyhumphreys.com/</td>\n",
              "      <td>good</td>\n",
              "    </tr>\n",
              "    <tr>\n",
              "      <th>freq</th>\n",
              "      <td>2</td>\n",
              "      <td>392897</td>\n",
              "    </tr>\n",
              "  </tbody>\n",
              "</table>\n",
              "</div>\n",
              "      <button class=\"colab-df-convert\" onclick=\"convertToInteractive('df-62579a0d-4f0c-42b2-bc1d-ca8ad19f1ca7')\"\n",
              "              title=\"Convert this dataframe to an interactive table.\"\n",
              "              style=\"display:none;\">\n",
              "        \n",
              "  <svg xmlns=\"http://www.w3.org/2000/svg\" height=\"24px\"viewBox=\"0 0 24 24\"\n",
              "       width=\"24px\">\n",
              "    <path d=\"M0 0h24v24H0V0z\" fill=\"none\"/>\n",
              "    <path d=\"M18.56 5.44l.94 2.06.94-2.06 2.06-.94-2.06-.94-.94-2.06-.94 2.06-2.06.94zm-11 1L8.5 8.5l.94-2.06 2.06-.94-2.06-.94L8.5 2.5l-.94 2.06-2.06.94zm10 10l.94 2.06.94-2.06 2.06-.94-2.06-.94-.94-2.06-.94 2.06-2.06.94z\"/><path d=\"M17.41 7.96l-1.37-1.37c-.4-.4-.92-.59-1.43-.59-.52 0-1.04.2-1.43.59L10.3 9.45l-7.72 7.72c-.78.78-.78 2.05 0 2.83L4 21.41c.39.39.9.59 1.41.59.51 0 1.02-.2 1.41-.59l7.78-7.78 2.81-2.81c.8-.78.8-2.07 0-2.86zM5.41 20L4 18.59l7.72-7.72 1.47 1.35L5.41 20z\"/>\n",
              "  </svg>\n",
              "      </button>\n",
              "      \n",
              "  <style>\n",
              "    .colab-df-container {\n",
              "      display:flex;\n",
              "      flex-wrap:wrap;\n",
              "      gap: 12px;\n",
              "    }\n",
              "\n",
              "    .colab-df-convert {\n",
              "      background-color: #E8F0FE;\n",
              "      border: none;\n",
              "      border-radius: 50%;\n",
              "      cursor: pointer;\n",
              "      display: none;\n",
              "      fill: #1967D2;\n",
              "      height: 32px;\n",
              "      padding: 0 0 0 0;\n",
              "      width: 32px;\n",
              "    }\n",
              "\n",
              "    .colab-df-convert:hover {\n",
              "      background-color: #E2EBFA;\n",
              "      box-shadow: 0px 1px 2px rgba(60, 64, 67, 0.3), 0px 1px 3px 1px rgba(60, 64, 67, 0.15);\n",
              "      fill: #174EA6;\n",
              "    }\n",
              "\n",
              "    [theme=dark] .colab-df-convert {\n",
              "      background-color: #3B4455;\n",
              "      fill: #D2E3FC;\n",
              "    }\n",
              "\n",
              "    [theme=dark] .colab-df-convert:hover {\n",
              "      background-color: #434B5C;\n",
              "      box-shadow: 0px 1px 3px 1px rgba(0, 0, 0, 0.15);\n",
              "      filter: drop-shadow(0px 1px 2px rgba(0, 0, 0, 0.3));\n",
              "      fill: #FFFFFF;\n",
              "    }\n",
              "  </style>\n",
              "\n",
              "      <script>\n",
              "        const buttonEl =\n",
              "          document.querySelector('#df-62579a0d-4f0c-42b2-bc1d-ca8ad19f1ca7 button.colab-df-convert');\n",
              "        buttonEl.style.display =\n",
              "          google.colab.kernel.accessAllowed ? 'block' : 'none';\n",
              "\n",
              "        async function convertToInteractive(key) {\n",
              "          const element = document.querySelector('#df-62579a0d-4f0c-42b2-bc1d-ca8ad19f1ca7');\n",
              "          const dataTable =\n",
              "            await google.colab.kernel.invokeFunction('convertToInteractive',\n",
              "                                                     [key], {});\n",
              "          if (!dataTable) return;\n",
              "\n",
              "          const docLinkHtml = 'Like what you see? Visit the ' +\n",
              "            '<a target=\"_blank\" href=https://colab.research.google.com/notebooks/data_table.ipynb>data table notebook</a>'\n",
              "            + ' to learn more about interactive tables.';\n",
              "          element.innerHTML = '';\n",
              "          dataTable['output_type'] = 'display_data';\n",
              "          await google.colab.output.renderOutput(dataTable, element);\n",
              "          const docLink = document.createElement('div');\n",
              "          docLink.innerHTML = docLinkHtml;\n",
              "          element.appendChild(docLink);\n",
              "        }\n",
              "      </script>\n",
              "    </div>\n",
              "  </div>\n",
              "  "
            ]
          },
          "metadata": {},
          "execution_count": 12
        }
      ]
    },
    {
      "cell_type": "code",
      "source": [
        "df[df['Label']=='bad'].count()"
      ],
      "metadata": {
        "colab": {
          "base_uri": "https://localhost:8080/"
        },
        "id": "h1oSbOax7sv-",
        "outputId": "ee919857-88c0-4969-ed54-465b92929238"
      },
      "execution_count": 13,
      "outputs": [
        {
          "output_type": "execute_result",
          "data": {
            "text/plain": [
              "URL      114299\n",
              "Label    114299\n",
              "dtype: int64"
            ]
          },
          "metadata": {},
          "execution_count": 13
        }
      ]
    },
    {
      "cell_type": "code",
      "source": [
        "df[df['Label']=='good'].count()"
      ],
      "metadata": {
        "colab": {
          "base_uri": "https://localhost:8080/"
        },
        "id": "yhs1eGIg7txH",
        "outputId": "67ccfe8a-c803-40fe-bed0-fed2f7399277"
      },
      "execution_count": 14,
      "outputs": [
        {
          "output_type": "execute_result",
          "data": {
            "text/plain": [
              "URL      392897\n",
              "Label    392897\n",
              "dtype: int64"
            ]
          },
          "metadata": {},
          "execution_count": 14
        }
      ]
    },
    {
      "cell_type": "code",
      "source": [
        "# Gerekli sütunları ve etiketleri seçme\n",
        "X = df['URL']\n",
        "y = df['Label']"
      ],
      "metadata": {
        "id": "iCgM7G8mrVad"
      },
      "execution_count": 15,
      "outputs": []
    },
    {
      "cell_type": "code",
      "source": [
        "# Metinleri vektörlere dönüştürme\n",
        "tokenizer = Tokenizer(num_words=10000)  # Kelime sayısını sınırlar\n",
        "#tokenizer = Tokenizer()\n",
        "tokenizer.fit_on_texts(X)\n",
        "sequences = tokenizer.texts_to_sequences(X)\n",
        "X = pad_sequences(sequences, maxlen=100)"
      ],
      "metadata": {
        "id": "UIHmYj3HrrmI"
      },
      "execution_count": 16,
      "outputs": []
    },
    {
      "cell_type": "code",
      "source": [
        "# Etiketleri kategorik hale getirme\n",
        "y = pd.get_dummies(y)"
      ],
      "metadata": {
        "id": "gB96HFT9iQPc"
      },
      "execution_count": 17,
      "outputs": []
    },
    {
      "cell_type": "code",
      "source": [
        "# Eğitim ve test verilerini ayırma\n",
        "split = int(0.8 * len(X))\n",
        "X_train = X[:split]\n",
        "y_train = y[:split]\n",
        "X_test = X[split:]\n",
        "y_test = y[split:]"
      ],
      "metadata": {
        "id": "gWfwStAzr0gD"
      },
      "execution_count": 18,
      "outputs": []
    },
    {
      "cell_type": "code",
      "source": [
        "# Sinir ağı modelini oluşturma\n",
        "model = Sequential()\n",
        "model.add(Embedding(len(tokenizer.word_index) + 1, 100, input_length=100))\n",
        "model.add(Bidirectional(LSTM(128, return_sequences=True)))\n",
        "model.add(Dropout(0.5))\n",
        "model.add(Bidirectional(LSTM(64)))\n",
        "model.add(Dropout(0.5))\n",
        "model.add(Dense(64, activation='relu'))\n",
        "model.add(Dropout(0.5))\n",
        "model.add(Dense(2, activation='softmax'))\n",
        "model.compile(loss='categorical_crossentropy', optimizer='rmsprop', metrics=['accuracy'])\n",
        "\n",
        "#model.compile(loss='categorical_crossentropy', optimizer='adam', metrics=['accuracy'])\n",
        "\n"
      ],
      "metadata": {
        "id": "gDw1WJxDr2Gv"
      },
      "execution_count": 19,
      "outputs": []
    },
    {
      "cell_type": "code",
      "source": [
        "# Early stopping kullanarak eğitimi durdurma\n",
        "early_stopping = EarlyStopping(monitor='val_loss', patience=3, restore_best_weights=True)\n"
      ],
      "metadata": {
        "id": "koNM7lj4r4eA"
      },
      "execution_count": 20,
      "outputs": []
    },
    {
      "cell_type": "code",
      "source": [
        "checkpointer = ModelCheckpoint(filepath=f'best_model_phishingDetection.hdf5',\n",
        "                                    verbose=1, save_best_only=True)\n",
        "csv_logger = CSVLogger(f'history_phishingDetection.log')"
      ],
      "metadata": {
        "id": "Mwkt0VbIvL0I"
      },
      "execution_count": 21,
      "outputs": []
    },
    {
      "cell_type": "code",
      "source": [
        "# Modeli eğitme\n",
        "history = model.fit(X_train,\n",
        "                    y_train,\n",
        "                    batch_size=64,\n",
        "                    epochs=10,\n",
        "                    validation_data=(X_test, y_test),\n",
        "                    callbacks=[csv_logger, checkpointer])\n",
        "\n",
        "model.save(f'model_trained_nn.hdf5')"
      ],
      "metadata": {
        "colab": {
          "base_uri": "https://localhost:8080/"
        },
        "id": "nQq7iEdsr5qE",
        "outputId": "4c5a551d-8df3-4bbb-cedb-031bea0aae26"
      },
      "execution_count": 22,
      "outputs": [
        {
          "output_type": "stream",
          "name": "stdout",
          "text": [
            "Epoch 1/10\n",
            "6339/6340 [============================>.] - ETA: 0s - loss: 0.1283 - accuracy: 0.9579\n",
            "Epoch 1: val_loss improved from inf to 0.42374, saving model to best_model_phishingDetection.hdf5\n",
            "6340/6340 [==============================] - 211s 31ms/step - loss: 0.1282 - accuracy: 0.9579 - val_loss: 0.4237 - val_accuracy: 0.8393\n",
            "Epoch 2/10\n",
            "6339/6340 [============================>.] - ETA: 0s - loss: 0.1019 - accuracy: 0.9671\n",
            "Epoch 2: val_loss improved from 0.42374 to 0.40102, saving model to best_model_phishingDetection.hdf5\n",
            "6340/6340 [==============================] - 175s 28ms/step - loss: 0.1019 - accuracy: 0.9671 - val_loss: 0.4010 - val_accuracy: 0.8371\n",
            "Epoch 3/10\n",
            "6339/6340 [============================>.] - ETA: 0s - loss: 0.0954 - accuracy: 0.9694\n",
            "Epoch 3: val_loss did not improve from 0.40102\n",
            "6340/6340 [==============================] - 172s 27ms/step - loss: 0.0954 - accuracy: 0.9694 - val_loss: 0.4013 - val_accuracy: 0.8450\n",
            "Epoch 4/10\n",
            "6340/6340 [==============================] - ETA: 0s - loss: 0.0916 - accuracy: 0.9706\n",
            "Epoch 4: val_loss improved from 0.40102 to 0.35959, saving model to best_model_phishingDetection.hdf5\n",
            "6340/6340 [==============================] - 173s 27ms/step - loss: 0.0916 - accuracy: 0.9706 - val_loss: 0.3596 - val_accuracy: 0.8651\n",
            "Epoch 5/10\n",
            "6338/6340 [============================>.] - ETA: 0s - loss: 0.0882 - accuracy: 0.9717\n",
            "Epoch 5: val_loss did not improve from 0.35959\n",
            "6340/6340 [==============================] - 172s 27ms/step - loss: 0.0882 - accuracy: 0.9717 - val_loss: 0.4220 - val_accuracy: 0.8562\n",
            "Epoch 6/10\n",
            "6339/6340 [============================>.] - ETA: 0s - loss: 0.0857 - accuracy: 0.9727\n",
            "Epoch 6: val_loss did not improve from 0.35959\n",
            "6340/6340 [==============================] - 173s 27ms/step - loss: 0.0857 - accuracy: 0.9727 - val_loss: 0.4127 - val_accuracy: 0.8455\n",
            "Epoch 7/10\n",
            "6340/6340 [==============================] - ETA: 0s - loss: 0.0842 - accuracy: 0.9736\n",
            "Epoch 7: val_loss did not improve from 0.35959\n",
            "6340/6340 [==============================] - 172s 27ms/step - loss: 0.0842 - accuracy: 0.9736 - val_loss: 0.4138 - val_accuracy: 0.8489\n",
            "Epoch 8/10\n",
            "6338/6340 [============================>.] - ETA: 0s - loss: 0.0825 - accuracy: 0.9742\n",
            "Epoch 8: val_loss did not improve from 0.35959\n",
            "6340/6340 [==============================] - 172s 27ms/step - loss: 0.0825 - accuracy: 0.9742 - val_loss: 0.4030 - val_accuracy: 0.8570\n",
            "Epoch 9/10\n",
            "6340/6340 [==============================] - ETA: 0s - loss: 0.0808 - accuracy: 0.9746\n",
            "Epoch 9: val_loss did not improve from 0.35959\n",
            "6340/6340 [==============================] - 173s 27ms/step - loss: 0.0808 - accuracy: 0.9746 - val_loss: 0.3932 - val_accuracy: 0.8605\n",
            "Epoch 10/10\n",
            "6340/6340 [==============================] - ETA: 0s - loss: 0.0800 - accuracy: 0.9751\n",
            "Epoch 10: val_loss did not improve from 0.35959\n",
            "6340/6340 [==============================] - 174s 27ms/step - loss: 0.0800 - accuracy: 0.9751 - val_loss: 0.3864 - val_accuracy: 0.8653\n"
          ]
        }
      ]
    },
    {
      "cell_type": "code",
      "source": [
        "# Eğitim sürecindeki doğruluk ve kayıp değerlerini alın\n",
        "train_accuracy = history.history['accuracy']\n",
        "test_accuracy = history.history['val_accuracy']\n",
        "train_loss = history.history['loss']\n",
        "test_loss = history.history['val_loss']\n",
        "\n",
        "loss, accuracy = model.evaluate(X_test, y_test)\n",
        "# Elde edilen sonuçları yazdırın\n",
        "print('Test Kayıp Değeri:', loss)\n",
        "print('Test Doğruluk Değeri:', accuracy)\n",
        "#print(f\"Test Accuracy: {test_accuracy * 100:.2f}%\")\n",
        "#print(f\"Train Loss: {train_loss:.4f}\")\n",
        "#print(f\"Train Accuracy: {train_accuracy * 100:.2f}%\")"
      ],
      "metadata": {
        "id": "5l8ZVRoMt2T7",
        "colab": {
          "base_uri": "https://localhost:8080/"
        },
        "outputId": "32fff8ee-50dd-43ec-8d63-9780155fb412"
      },
      "execution_count": 23,
      "outputs": [
        {
          "output_type": "stream",
          "name": "stdout",
          "text": [
            "3170/3170 [==============================] - 28s 8ms/step - loss: 0.3864 - accuracy: 0.8653\n",
            "Test Kayıp Değeri: 0.3863901197910309\n",
            "Test Doğruluk Değeri: 0.8652701377868652\n"
          ]
        }
      ]
    },
    {
      "cell_type": "code",
      "source": [
        "def plot_accuracy(history,title):\n",
        "    plt.title(title)\n",
        "    plt.plot(history.history['accuracy'])\n",
        "    plt.plot(history.history['val_accuracy'])\n",
        "    plt.ylabel('accuracy')\n",
        "    plt.xlabel('epoch')\n",
        "    plt.legend(['train_accuracy', 'validation_accuracy'], loc='best')\n",
        "    plt.show()\n",
        "\n",
        "def plot_loss(history,title):\n",
        "    plt.title(title)\n",
        "    plt.plot(history.history['loss'])\n",
        "    plt.plot(history.history['val_loss'])\n",
        "    plt.ylabel('loss')\n",
        "    plt.xlabel('epoch')\n",
        "    plt.legend(['train_loss', 'validation_loss'], loc='best')\n",
        "    plt.show()"
      ],
      "metadata": {
        "id": "-ng7PpDYu1GS"
      },
      "execution_count": 24,
      "outputs": []
    },
    {
      "cell_type": "code",
      "source": [
        "plot_accuracy(history,'Phishing URL Detecton')\n",
        "plot_loss(history,'Phishing URL Detection')"
      ],
      "metadata": {
        "id": "tJm2UKwpuZPE",
        "colab": {
          "base_uri": "https://localhost:8080/",
          "height": 927
        },
        "outputId": "e77cdfa4-c668-498d-b6ad-f8f55f7c2218"
      },
      "execution_count": 25,
      "outputs": [
        {
          "output_type": "display_data",
          "data": {
            "text/plain": [
              "<Figure size 640x480 with 1 Axes>"
            ],
            "image/png": "[encoded data removed]"
          },
          "metadata": {}
        },
        {
          "output_type": "display_data",
          "data": {
            "text/plain": [
              "<Figure size 640x480 with 1 Axes>"
            ],
            "image/png": "[encoded data removed]"
          },
          "metadata": {}
        }
      ]
    },
    {
      "cell_type": "code",
      "source": [
        "def oltalama_tespiti(url):\n",
        "    # URL'yi içeriği almak için istek gönder\n",
        "    response = requests.get(url)\n",
        "    content = response.text\n",
        "\n",
        "    # URL içeriğini diziye dönüştürme\n",
        "    content_list = [content]\n",
        "\n",
        "    # Metinleri vektörlere dönüştürme\n",
        "    sequences = tokenizer.texts_to_sequences(content_list)\n",
        "    padded_sequences = pad_sequences(sequences, maxlen=100)\n",
        "\n",
        "    # Modeli kullanarak tahmin yapma\n",
        "    prediction = model.predict(padded_sequences)\n",
        "\n",
        "    # Tahmini yorumlama\n",
        "    if np.argmax(prediction[0]) == 1:\n",
        "        return \"Bu bir oltalama sitesidir.\"\n",
        "    else:\n",
        "        return \"Bu bir oltalama sitesi değildir.\"\n",
        "\n"
      ],
      "metadata": {
        "id": "LWhQfLdgr75v"
      },
      "execution_count": 26,
      "outputs": []
    },
    {
      "cell_type": "code",
      "source": [
        "# Test etmek için bir URL kullanın\n",
        "url = \"https://www.example.com\"  # İstediğiniz URL'yi buraya girin\n",
        "sonuc = oltalama_tespiti(url)\n",
        "print(sonuc)"
      ],
      "metadata": {
        "id": "YWSZE7J0r9eB",
        "colab": {
          "base_uri": "https://localhost:8080/"
        },
        "outputId": "7c7eba20-a542-4b12-efb9-5aa2dc5dc857"
      },
      "execution_count": 27,
      "outputs": [
        {
          "output_type": "stream",
          "name": "stdout",
          "text": [
            "1/1 [==============================] - 1s 1s/step\n",
            "Bu bir oltalama sitesi değildir.\n"
          ]
        }
      ]
    }
  ],
  "metadata": {
    "colab": {
      "provenance": [],
      "machine_shape": "hm",
      "gpuType": "T4"
    },
    "kernelspec": {
      "display_name": "Python 3",
      "name": "python3"
    },
    "accelerator": "GPU"
  },
  "nbformat": 4,
  "nbformat_minor": 0
}